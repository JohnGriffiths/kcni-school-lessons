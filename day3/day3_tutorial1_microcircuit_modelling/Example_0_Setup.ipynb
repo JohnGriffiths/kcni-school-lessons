{
 "cells": [
  {
   "cell_type": "markdown",
   "metadata": {},
   "source": [
    "## 1) Install Docker, clone repo\n",
    "\n",
    "- Follow link:\n",
    "https://github.com/krembilneuroinformatics/kcni-school-lessons/tree/master/envs\n",
    "- Complete 'Step one: Install docker on your computer'\n",
    "- Scroll down to \"Running the Jyputer Physiological Modeling Environment\" and complete\n",
    "\n"
   ]
  },
  {
   "cell_type": "markdown",
   "metadata": {},
   "source": [
    "## 2) Compile mod files\n",
    "\n"
   ]
  },
  {
   "cell_type": "markdown",
   "metadata": {},
   "source": [
    "Run this part once. Setup should hold for future sessions, but you can delete folder x86_64 and rerun if you encounter errors."
   ]
  },
  {
   "cell_type": "code",
   "execution_count": null,
   "metadata": {},
   "outputs": [],
   "source": [
    "# Ensure you're in '/home/neuro/kcni-school-data', if not, cd to it. \n",
    "import os\n",
    "os.getcwd() =='/home/neuro/kcni-school-data'"
   ]
  },
  {
   "cell_type": "code",
   "execution_count": null,
   "metadata": {},
   "outputs": [],
   "source": [
    "%%bash\n",
    "cd mod\n",
    "nrnivmodl\n",
    "cd .."
   ]
  }
 ],
 "metadata": {
  "kernelspec": {
   "display_name": "Python 3",
   "language": "python",
   "name": "python3"
  },
  "language_info": {
   "codemirror_mode": {
    "name": "ipython",
    "version": 3
   },
   "file_extension": ".py",
   "mimetype": "text/x-python",
   "name": "python",
   "nbconvert_exporter": "python",
   "pygments_lexer": "ipython3",
   "version": "3.7.6"
  }
 },
 "nbformat": 4,
 "nbformat_minor": 4
}
